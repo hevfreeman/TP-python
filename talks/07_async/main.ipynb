{
 "cells": [
  {
   "cell_type": "markdown",
   "metadata": {},
   "source": [
    "`yield from`\n",
    "==="
   ]
  },
  {
   "cell_type": "code",
   "execution_count": null,
   "metadata": {
    "collapsed": true
   },
   "outputs": [],
   "source": [
    "def braced_chain(*gens, before='{', after='}'):\n",
    "    for gen in gens:\n",
    "        yield before\n",
    "        for x in gen:\n",
    "            yield x\n",
    "        yield after"
   ]
  },
  {
   "cell_type": "code",
   "execution_count": null,
   "metadata": {
    "collapsed": true
   },
   "outputs": [],
   "source": [
    "g2 = lambda: (x**2 for x in range(3))\n",
    "g3 = lambda: (x**3 for x in range(3))\n",
    "g4 = lambda: (x**4 for x in range(3))"
   ]
  },
  {
   "cell_type": "code",
   "execution_count": null,
   "metadata": {
    "collapsed": true
   },
   "outputs": [],
   "source": [
    "list(braced_chain(g2(), g3(), g4(), before='<', after='>'))"
   ]
  },
  {
   "cell_type": "code",
   "execution_count": null,
   "metadata": {
    "collapsed": true
   },
   "outputs": [],
   "source": [
    "def braced_chain(*gens, before='{', after='}'):\n",
    "    for gen in gens:\n",
    "        yield before\n",
    "        yield from gen\n",
    "        yield after"
   ]
  },
  {
   "cell_type": "markdown",
   "metadata": {},
   "source": [
    "Корутины\n",
    "==="
   ]
  },
  {
   "cell_type": "code",
   "execution_count": null,
   "metadata": {
    "collapsed": true
   },
   "outputs": [],
   "source": [
    "class Mean:\n",
    "    def __init__(self):\n",
    "        self._sum = 0\n",
    "        self._n = 0\n",
    "        \n",
    "    def add(self, x):\n",
    "        self._sum += x\n",
    "        self._n += 1\n",
    "        \n",
    "        return x >= self._sum / self._n"
   ]
  },
  {
   "cell_type": "code",
   "execution_count": null,
   "metadata": {
    "collapsed": true
   },
   "outputs": [],
   "source": [
    "m = Mean()"
   ]
  },
  {
   "cell_type": "code",
   "execution_count": null,
   "metadata": {
    "collapsed": true
   },
   "outputs": [],
   "source": [
    "m.add(1)"
   ]
  },
  {
   "cell_type": "code",
   "execution_count": null,
   "metadata": {
    "collapsed": true
   },
   "outputs": [],
   "source": [
    "m.add(10)"
   ]
  },
  {
   "cell_type": "code",
   "execution_count": null,
   "metadata": {
    "collapsed": true
   },
   "outputs": [],
   "source": [
    "m.add(2)"
   ]
  },
  {
   "cell_type": "code",
   "execution_count": null,
   "metadata": {
    "collapsed": true
   },
   "outputs": [],
   "source": [
    "m.add(3)"
   ]
  },
  {
   "cell_type": "code",
   "execution_count": null,
   "metadata": {
    "collapsed": true
   },
   "outputs": [],
   "source": [
    "m.add(4)"
   ]
  },
  {
   "cell_type": "code",
   "execution_count": null,
   "metadata": {
    "collapsed": true
   },
   "outputs": [],
   "source": [
    "def mean():\n",
    "    result = None\n",
    "    s = 0\n",
    "    n = 0\n",
    "    while True:\n",
    "        x = yield result\n",
    "        s += x\n",
    "        n += 1\n",
    "        result = x >= s / n"
   ]
  },
  {
   "cell_type": "code",
   "execution_count": null,
   "metadata": {
    "collapsed": true
   },
   "outputs": [],
   "source": [
    "m = mean()"
   ]
  },
  {
   "cell_type": "code",
   "execution_count": null,
   "metadata": {
    "collapsed": true
   },
   "outputs": [],
   "source": [
    "m"
   ]
  },
  {
   "cell_type": "code",
   "execution_count": null,
   "metadata": {
    "collapsed": true
   },
   "outputs": [],
   "source": [
    "next(m)"
   ]
  },
  {
   "cell_type": "code",
   "execution_count": null,
   "metadata": {
    "collapsed": true
   },
   "outputs": [],
   "source": [
    "m.send(1)"
   ]
  },
  {
   "cell_type": "code",
   "execution_count": null,
   "metadata": {
    "collapsed": true
   },
   "outputs": [],
   "source": [
    "m.send(10)"
   ]
  },
  {
   "cell_type": "code",
   "execution_count": null,
   "metadata": {
    "collapsed": true
   },
   "outputs": [],
   "source": [
    "m.send(2)"
   ]
  },
  {
   "cell_type": "code",
   "execution_count": null,
   "metadata": {
    "collapsed": true
   },
   "outputs": [],
   "source": [
    "m.send(3)"
   ]
  },
  {
   "cell_type": "code",
   "execution_count": null,
   "metadata": {
    "collapsed": true
   },
   "outputs": [],
   "source": [
    "m.send(4)"
   ]
  },
  {
   "cell_type": "code",
   "execution_count": null,
   "metadata": {
    "collapsed": true
   },
   "outputs": [],
   "source": [
    "def mean():\n",
    "    result = None\n",
    "    s = 0\n",
    "    n = 0\n",
    "    while True:\n",
    "        x = yield result\n",
    "        if x is None:\n",
    "            break\n",
    "        s += x\n",
    "        n += 1\n",
    "        result = x >= s / n"
   ]
  },
  {
   "cell_type": "code",
   "execution_count": null,
   "metadata": {
    "collapsed": true
   },
   "outputs": [],
   "source": [
    "m = mean()"
   ]
  },
  {
   "cell_type": "code",
   "execution_count": null,
   "metadata": {
    "collapsed": true
   },
   "outputs": [],
   "source": [
    "next(m)"
   ]
  },
  {
   "cell_type": "code",
   "execution_count": null,
   "metadata": {
    "collapsed": true
   },
   "outputs": [],
   "source": [
    "m.send(1)"
   ]
  },
  {
   "cell_type": "code",
   "execution_count": null,
   "metadata": {
    "collapsed": true
   },
   "outputs": [],
   "source": [
    "m.send(2)"
   ]
  },
  {
   "cell_type": "code",
   "execution_count": null,
   "metadata": {
    "collapsed": true
   },
   "outputs": [],
   "source": [
    "m.send(None)"
   ]
  },
  {
   "cell_type": "markdown",
   "metadata": {},
   "source": [
    "`RestoringGet`\n",
    "==="
   ]
  },
  {
   "cell_type": "code",
   "execution_count": null,
   "metadata": {
    "collapsed": true
   },
   "outputs": [],
   "source": [
    "logger = logging.getLogger(name)\n",
    "\n",
    "\n",
    "class RestoringGet:\n",
    "    MAX_RESTORES = 10\n",
    "\n",
    "    def init(self, url, get_kwargs=None):\n",
    "        if get_kwargs is None:\n",
    "            get_kwargs = {}\n",
    "\n",
    "        self._url = url\n",
    "        self._kwargs = get_kwargs\n",
    "\n",
    "    def get_generator(self):\n",
    "        restores = 0\n",
    "        offset = 0\n",
    "        headers = {}\n",
    "        while True:\n",
    "            restores += 1\n",
    "            if restores > self.MAX_RESTORES:\n",
    "                raise TooManyRestores()\n",
    "\n",
    "            response = requests.get(\n",
    "                self._url, headers=headers, **self._kwargs)\n",
    "            response.raise_for_status()\n",
    "\n",
    "            real_length = yield response\n",
    "\n",
    "            content_length = parse_int(\n",
    "                response.headers.get('Content-Length'), None)\n",
    "            if content_length is None \\\n",
    "                or content_length + offset <= real_length:\n",
    "                break\n",
    "\n",
    "            logger.info(\n",
    "                'GET looks to be interrupted, trying to continue')\n",
    "            offset = real_length\n",
    "            headers = {'Range': 'bytes={}-'.format(offset)}"
   ]
  },
  {
   "cell_type": "code",
   "execution_count": null,
   "metadata": {
    "collapsed": true
   },
   "outputs": [],
   "source": [
    "gen = RestoringGet(...).get_generator()\n",
    "response = next(gen)\n",
    "while response:\n",
    "    file = save_response(response)\n",
    "    try:\n",
    "        response = gen.send(file.size)\n",
    "    except StopIteration:\n",
    "        response = None"
   ]
  },
  {
   "cell_type": "markdown",
   "metadata": {},
   "source": [
    "`yield from` для корутин\n",
    "==="
   ]
  },
  {
   "cell_type": "code",
   "execution_count": null,
   "metadata": {
    "collapsed": true
   },
   "outputs": [],
   "source": [
    "def braced_chain(*gens, before='{', after='}'):\n",
    "    for gen in gens:\n",
    "        yield before\n",
    "        for x in gen:\n",
    "            yield x\n",
    "        yield after"
   ]
  },
  {
   "cell_type": "code",
   "execution_count": null,
   "metadata": {
    "collapsed": true
   },
   "outputs": [],
   "source": [
    "b = braced_chain(g2(), mean())"
   ]
  },
  {
   "cell_type": "code",
   "execution_count": null,
   "metadata": {
    "collapsed": true
   },
   "outputs": [],
   "source": [
    "list(b)"
   ]
  },
  {
   "cell_type": "code",
   "execution_count": null,
   "metadata": {
    "collapsed": true
   },
   "outputs": [],
   "source": [
    "def braced_chain(*gens, before='{', after='}'):\n",
    "    for gen in gens:\n",
    "        yield before\n",
    "        yield from gen\n",
    "        yield after"
   ]
  },
  {
   "cell_type": "code",
   "execution_count": null,
   "metadata": {
    "collapsed": true
   },
   "outputs": [],
   "source": [
    "m = mean()\n",
    "b = braced_chain(g2(), m)\n",
    "(\n",
    "    next(b), next(b), next(b), next(b), next(b),\n",
    "    next(b), next(b), b.send(1), b.send(2), b.send(None)\n",
    ")"
   ]
  },
  {
   "cell_type": "code",
   "execution_count": null,
   "metadata": {
    "collapsed": true
   },
   "outputs": [],
   "source": [
    "b.send(13)"
   ]
  },
  {
   "cell_type": "markdown",
   "metadata": {},
   "source": [
    "`return` в генераторе\n",
    "==="
   ]
  },
  {
   "cell_type": "code",
   "execution_count": null,
   "metadata": {
    "collapsed": true
   },
   "outputs": [],
   "source": [
    "def mean():\n",
    "    result = None\n",
    "    s = 0\n",
    "    n = 0\n",
    "    while True:\n",
    "        x = yield result\n",
    "        if x is None:\n",
    "            break\n",
    "        s += x\n",
    "        n += 1\n",
    "        result = x >= s / n\n",
    "    return s / n"
   ]
  },
  {
   "cell_type": "code",
   "execution_count": null,
   "metadata": {
    "collapsed": true
   },
   "outputs": [],
   "source": [
    "m = mean()\n",
    "next(m), m.send(1), m.send(2), m.send(None)"
   ]
  },
  {
   "cell_type": "code",
   "execution_count": null,
   "metadata": {
    "collapsed": true
   },
   "outputs": [],
   "source": [
    "def braced_chain(*gens, before='{', after='}'):\n",
    "    results = []\n",
    "    for gen in gens:\n",
    "        yield before\n",
    "        result = yield from gen\n",
    "        results.append(result)\n",
    "        yield after\n",
    "    return results"
   ]
  },
  {
   "cell_type": "code",
   "execution_count": null,
   "metadata": {
    "collapsed": true
   },
   "outputs": [],
   "source": [
    "m = mean()\n",
    "b = braced_chain(g2(), m)\n",
    "(\n",
    "    next(b), next(b), next(b), next(b), next(b),\n",
    "    next(b), next(b), b.send(1), b.send(2), b.send(None)\n",
    ")"
   ]
  },
  {
   "cell_type": "code",
   "execution_count": null,
   "metadata": {
    "collapsed": true
   },
   "outputs": [],
   "source": [
    "next(b)"
   ]
  },
  {
   "cell_type": "markdown",
   "metadata": {},
   "source": [
    "Communicate\n",
    "==="
   ]
  },
  {
   "cell_type": "code",
   "execution_count": null,
   "metadata": {
    "collapsed": true
   },
   "outputs": [],
   "source": [
    "import subprocess"
   ]
  },
  {
   "cell_type": "code",
   "execution_count": null,
   "metadata": {
    "collapsed": true
   },
   "outputs": [],
   "source": [
    "p = subprocess.run(['python', '-c', 'open(\"/tmp/5555\", \"w\").close()'])"
   ]
  },
  {
   "cell_type": "code",
   "execution_count": null,
   "metadata": {
    "collapsed": true
   },
   "outputs": [],
   "source": [
    "p = subprocess.run(\n",
    "    ['perl', '-E', 'say \"out\"; warn \"err\\n\"'],\n",
    "    stdout=subprocess.PIPE, stderr=subprocess.PIPE\n",
    ")"
   ]
  },
  {
   "cell_type": "code",
   "execution_count": null,
   "metadata": {
    "collapsed": true
   },
   "outputs": [],
   "source": [
    "p.stdout, p.stderr"
   ]
  },
  {
   "cell_type": "code",
   "execution_count": null,
   "metadata": {
    "collapsed": true
   },
   "outputs": [],
   "source": [
    "from subprocess import Popen"
   ]
  },
  {
   "cell_type": "code",
   "execution_count": null,
   "metadata": {
    "collapsed": true
   },
   "outputs": [],
   "source": [
    "p = Popen(\n",
    "    ['perl', '-E', 'say \"out\"; warn \"err\\n\"'],\n",
    "    stdout=subprocess.PIPE, stderr=subprocess.PIPE\n",
    ")"
   ]
  },
  {
   "cell_type": "code",
   "execution_count": null,
   "metadata": {
    "collapsed": true
   },
   "outputs": [],
   "source": [
    "p.communicate()"
   ]
  },
  {
   "cell_type": "code",
   "execution_count": null,
   "metadata": {
    "collapsed": true
   },
   "outputs": [],
   "source": [
    "while True:\n",
    "    out = p.stdout.readline()\n",
    "    err = p.stderr.readline()\n",
    "    if out:\n",
    "        print(f'out: {out}')\n",
    "    if err:\n",
    "        print(f'err: {out}')\n",
    "    if not out and not err:\n",
    "        break       "
   ]
  },
  {
   "cell_type": "code",
   "execution_count": null,
   "metadata": {
    "collapsed": true
   },
   "outputs": [],
   "source": [
    "p = Popen(\n",
    "    ['perl', '-E', 'warn \"err\\n\" x 1000000; say \"out\";'],\n",
    "    stdout=subprocess.PIPE, stderr=subprocess.PIPE\n",
    ")"
   ]
  },
  {
   "cell_type": "markdown",
   "metadata": {},
   "source": [
    "Threads\n",
    "==="
   ]
  },
  {
   "cell_type": "code",
   "execution_count": null,
   "metadata": {
    "collapsed": true
   },
   "outputs": [],
   "source": [
    "import threading\n",
    "threads_num = 4\n",
    "\n",
    "p = Popen(\n",
    "    ['perl', '-E', 'warn \"err\\n\"; say \"out\";'],\n",
    "    stdout=subprocess.PIPE, stderr=subprocess.PIPE\n",
    ")\n",
    "\n",
    "def log(fh, prefix):\n",
    "    while True:\n",
    "        line = fh.readline()\n",
    "        if line:\n",
    "            print('{}: {}'.format(prefix, line.decode('utf8')), end='')\n",
    "        else:\n",
    "            break\n",
    "\n",
    "threads = [\n",
    "    threading.Thread(target=log, args=(p.stdout, 'out')),\n",
    "    threading.Thread(target=log, args=(p.stderr, 'err')),\n",
    "]\n",
    "for t in threads:\n",
    "    t.start()\n",
    "for t in threads:\n",
    "    t.join()"
   ]
  },
  {
   "cell_type": "markdown",
   "metadata": {},
   "source": [
    "Selector\n",
    "==="
   ]
  },
  {
   "cell_type": "code",
   "execution_count": null,
   "metadata": {
    "collapsed": true
   },
   "outputs": [],
   "source": [
    "import selectors\n",
    "\n",
    "sel = selectors.DefaultSelector()"
   ]
  },
  {
   "cell_type": "code",
   "execution_count": null,
   "metadata": {
    "collapsed": true
   },
   "outputs": [],
   "source": [
    "sel"
   ]
  },
  {
   "cell_type": "code",
   "execution_count": null,
   "metadata": {
    "collapsed": true
   },
   "outputs": [],
   "source": [
    "p = Popen(\n",
    "    ['perl', '-E', 'warn \"err\\n\"; say \"out\"; warn \"2\\n\"'],\n",
    "    stdout=subprocess.PIPE, stderr=subprocess.PIPE\n",
    ")\n",
    "sel.register(p.stdout, selectors.EVENT_READ, lambda l: print('out: {}'.format(l)))\n",
    "sel.register(p.stderr, selectors.EVENT_READ, lambda l: print('err: {}'.format(l)))"
   ]
  },
  {
   "cell_type": "code",
   "execution_count": null,
   "metadata": {
    "collapsed": true
   },
   "outputs": [],
   "source": [
    "while True:\n",
    "    events = sel.select()\n",
    "    if not events:\n",
    "        break\n",
    "    for key, mask in events:\n",
    "        callback = key.data\n",
    "        line = key.fileobj.readline()\n",
    "        if line:\n",
    "            callback(line)\n",
    "        else:\n",
    "            sel.unregister(key.fileobj)"
   ]
  },
  {
   "cell_type": "markdown",
   "metadata": {},
   "source": [
    "`asyncio`\n",
    "==="
   ]
  },
  {
   "cell_type": "code",
   "execution_count": null,
   "metadata": {
    "collapsed": true
   },
   "outputs": [],
   "source": [
    "import asyncio\n",
    "loop = asyncio.get_event_loop()"
   ]
  },
  {
   "cell_type": "code",
   "execution_count": null,
   "metadata": {
    "collapsed": true
   },
   "outputs": [],
   "source": [
    "p = asyncio.create_subprocess_exec(\n",
    "    'perl', '-E', 'warn \"err\\n\"; say \"out\"; warn \"2\\n\"',\n",
    "    stdout=asyncio.subprocess.PIPE, stderr=asyncio.subprocess.PIPE\n",
    ")"
   ]
  },
  {
   "cell_type": "code",
   "execution_count": null,
   "metadata": {
    "collapsed": true
   },
   "outputs": [],
   "source": [
    "p"
   ]
  },
  {
   "cell_type": "code",
   "execution_count": null,
   "metadata": {
    "collapsed": true
   },
   "outputs": [],
   "source": [
    "next(p)"
   ]
  },
  {
   "cell_type": "code",
   "execution_count": null,
   "metadata": {
    "collapsed": true
   },
   "outputs": [],
   "source": [
    "@asyncio.coroutine\n",
    "def execute():\n",
    "    p = yield from asyncio.create_subprocess_exec(\n",
    "        'perl', '-E', 'warn \"err\\n\"; say \"out\"; warn \"2\\n\"',\n",
    "        stdout=asyncio.subprocess.PIPE, stderr=asyncio.subprocess.PIPE\n",
    "    )\n",
    "    print('>>> {}'.format(p))"
   ]
  },
  {
   "cell_type": "code",
   "execution_count": null,
   "metadata": {
    "collapsed": true
   },
   "outputs": [],
   "source": [
    "execute()"
   ]
  },
  {
   "cell_type": "code",
   "execution_count": null,
   "metadata": {
    "collapsed": true
   },
   "outputs": [],
   "source": [
    "loop.run_until_complete(execute())"
   ]
  },
  {
   "cell_type": "code",
   "execution_count": null,
   "metadata": {
    "collapsed": true
   },
   "outputs": [],
   "source": [
    "@asyncio.coroutine\n",
    "def log(fh, prefix):\n",
    "    while True:\n",
    "        line = yield from fh.readline()  ###\n",
    "        if line:\n",
    "            print('{}: {}'.format(prefix, line.decode('utf8')), end='')\n",
    "        else:\n",
    "            break"
   ]
  },
  {
   "cell_type": "code",
   "execution_count": null,
   "metadata": {
    "collapsed": true
   },
   "outputs": [],
   "source": [
    "@asyncio.coroutine\n",
    "def execute(loop):\n",
    "    p = yield from asyncio.create_subprocess_exec(\n",
    "        'perl', '-E', 'warn \"err\\n\"; say \"out\"; warn \"2\\n\"',\n",
    "        stdout=asyncio.subprocess.PIPE, stderr=asyncio.subprocess.PIPE\n",
    "    )\n",
    "    \n",
    "    loop.create_task(log(p.stdout, 'stdout'))\n",
    "    loop.create_task(log(p.stderr, 'stderr'))\n",
    "    \n",
    "    yield from p.wait()"
   ]
  },
  {
   "cell_type": "code",
   "execution_count": null,
   "metadata": {
    "collapsed": true
   },
   "outputs": [],
   "source": [
    "loop.run_until_complete(execute(loop))"
   ]
  },
  {
   "cell_type": "markdown",
   "metadata": {},
   "source": [
    "`async` / `await`\n",
    "==="
   ]
  },
  {
   "cell_type": "code",
   "execution_count": null,
   "metadata": {
    "collapsed": true
   },
   "outputs": [],
   "source": [
    "async def log(fh, prefix):\n",
    "    while True:\n",
    "        line = await fh.readline()\n",
    "        if line:\n",
    "            print('{}: {}'.format(prefix, line))\n",
    "        else:\n",
    "            break"
   ]
  },
  {
   "cell_type": "code",
   "execution_count": null,
   "metadata": {
    "collapsed": true
   },
   "outputs": [],
   "source": [
    "async def execute(loop):\n",
    "    p = await asyncio.create_subprocess_exec(\n",
    "        'perl', '-E', 'warn \"err\\n\"; say \"out\"; warn \"2\\n\"',\n",
    "        stdout=asyncio.subprocess.PIPE, stderr=asyncio.subprocess.PIPE\n",
    "    )\n",
    "    \n",
    "    loop.create_task(log(p.stdout, 'stdout'))\n",
    "    loop.create_task(log(p.stderr, 'stderr'))\n",
    "    \n",
    "    await p.wait()"
   ]
  },
  {
   "cell_type": "code",
   "execution_count": null,
   "metadata": {
    "collapsed": true
   },
   "outputs": [],
   "source": [
    "loop.run_until_complete(execute(loop))"
   ]
  },
  {
   "cell_type": "markdown",
   "metadata": {},
   "source": [
    "`aiohttp`\n",
    "==="
   ]
  },
  {
   "cell_type": "code",
   "execution_count": null,
   "metadata": {
    "collapsed": true
   },
   "outputs": [],
   "source": [
    "import aiohttp\n",
    "import asyncio\n",
    "\n",
    "async def fetch(session, url):\n",
    "    async with session.get(url) as response:\n",
    "        if response.status == 200:\n",
    "            return await response.text()  # return yield from\n",
    "        else:\n",
    "            return f'ERROR: {response.status}'\n",
    "\n",
    "async def download_wiki(article):\n",
    "    async with aiohttp.ClientSession() as session:\n",
    "        html = await fetch(session, 'http://de.wikipedia.org/{}'.format(article))\n",
    "        return html[:15]\n",
    "\n",
    "loop = asyncio.get_event_loop()\n",
    "tasks = asyncio.gather(\n",
    "    download_wiki('wiki/Évariste_Galois'),\n",
    "    download_wiki('wiki/Alan_Turing'),\n",
    "    download_wiki('zzz'),\n",
    ")"
   ]
  },
  {
   "cell_type": "code",
   "execution_count": null,
   "metadata": {
    "collapsed": true
   },
   "outputs": [],
   "source": [
    "tasks"
   ]
  },
  {
   "cell_type": "code",
   "execution_count": null,
   "metadata": {
    "collapsed": true
   },
   "outputs": [],
   "source": [
    "loop.run_until_complete(tasks)"
   ]
  },
  {
   "cell_type": "markdown",
   "metadata": {},
   "source": [
    "Сервер\n",
    "==="
   ]
  },
  {
   "cell_type": "code",
   "execution_count": null,
   "metadata": {
    "collapsed": true
   },
   "outputs": [],
   "source": [
    "from aiohttp import web"
   ]
  }
 ],
 "metadata": {
  "kernelspec": {
   "display_name": "Python 3",
   "language": "python",
   "name": "python3"
  },
  "language_info": {
   "codemirror_mode": {
    "name": "ipython",
    "version": 3
   },
   "file_extension": ".py",
   "mimetype": "text/x-python",
   "name": "python",
   "nbconvert_exporter": "python",
   "pygments_lexer": "ipython3",
   "version": "3.6.3"
  }
 },
 "nbformat": 4,
 "nbformat_minor": 2
}
